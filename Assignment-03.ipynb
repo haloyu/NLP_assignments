{
 "cells": [
  {
   "cell_type": "markdown",
   "metadata": {},
   "source": [
    "## Lecture-03 Gradient Descent and Dymanic Programming"
   ]
  },
  {
   "cell_type": "markdown",
   "metadata": {},
   "source": [
    "In this week, we need complete following tasks:\n",
    "+ Re-review the course online programming; \n",
    "+ Choose 1 - 2 books which you interested and keep reading; \n",
    "+ Answer the review questions\n",
    "+ Prepare the basic requirement of our 1st project. "
   ]
  },
  {
   "cell_type": "markdown",
   "metadata": {},
   "source": [
    "### Part I Review the online programming. "
   ]
  },
  {
   "cell_type": "markdown",
   "metadata": {},
   "source": [
    "### Part 2: change loss function from $loss = \\frac{1}{n}\\sum{(y_i - \\hat(y_i))^2}$ to $loss = \\frac{1}{n}\\sum{|y_i - \\hat{y_i}|}$, and using your mathmatical knowledge to get the right partial formual. Implemen the gradient descent code."
   ]
  },
  {
   "cell_type": "code",
   "execution_count": 6,
   "metadata": {
    "scrolled": true
   },
   "outputs": [
    {
     "name": "stdout",
     "output_type": "stream",
     "text": [
      "When time is : 9, get best_k: 47.537231037994204 best_b: -51.54293972840313, and the loss is: 224.67837080835085\n",
      "When time is : 19, get best_k: 46.53723103799419 best_b: -52.54293972840314, and the loss is: 217.39373642099898\n",
      "When time is : 29, get best_k: 45.537231037994175 best_b: -53.542939728403155, and the loss is: 210.1091020336471\n",
      "When time is : 39, get best_k: 44.53723103799416 best_b: -54.54293972840317, and the loss is: 202.82446764629523\n",
      "When time is : 49, get best_k: 43.53723103799415 best_b: -55.542939728403184, and the loss is: 195.53983325894333\n",
      "When time is : 59, get best_k: 42.53723103799413 best_b: -56.5429397284032, and the loss is: 188.25519887159143\n",
      "When time is : 69, get best_k: 41.53723103799412 best_b: -57.54293972840321, and the loss is: 180.9705644842396\n",
      "When time is : 79, get best_k: 40.537231037994104 best_b: -58.542939728403226, and the loss is: 173.68593009688772\n",
      "When time is : 89, get best_k: 39.53723103799409 best_b: -59.54293972840324, and the loss is: 166.40129570953582\n",
      "When time is : 99, get best_k: 38.537231037994076 best_b: -60.542939728403255, and the loss is: 159.11666132218394\n",
      "When time is : 109, get best_k: 37.53723103799406 best_b: -61.54293972840327, and the loss is: 151.83202693483207\n",
      "When time is : 119, get best_k: 36.53723103799405 best_b: -62.54293972840328, and the loss is: 144.54739254748014\n",
      "When time is : 129, get best_k: 35.53723103799403 best_b: -63.5429397284033, and the loss is: 137.26275816012827\n",
      "When time is : 139, get best_k: 34.53723103799402 best_b: -64.54293972840327, and the loss is: 129.9781237727764\n",
      "When time is : 149, get best_k: 33.537231037994005 best_b: -65.54293972840321, and the loss is: 122.69348938542461\n",
      "When time is : 159, get best_k: 32.53723103799399 best_b: -66.54293972840316, and the loss is: 115.40885499807281\n",
      "When time is : 169, get best_k: 31.537231037993976 best_b: -67.5429397284031, and the loss is: 108.124220610721\n",
      "When time is : 179, get best_k: 30.537231037993962 best_b: -68.54293972840304, and the loss is: 100.83958622336918\n",
      "When time is : 189, get best_k: 29.537231037993948 best_b: -69.54293972840298, and the loss is: 93.55495183601738\n",
      "When time is : 199, get best_k: 28.537231037993934 best_b: -70.54293972840293, and the loss is: 86.27031744866557\n",
      "When time is : 209, get best_k: 27.53723103799392 best_b: -71.1429397284029, and the loss is: 79.38798685578847\n",
      "When time is : 219, get best_k: 26.537231037993905 best_b: -70.14293972840295, and the loss is: 74.1134749980808\n",
      "When time is : 229, get best_k: 25.53723103799389 best_b: -69.14293972840301, and the loss is: 68.83896314037317\n",
      "When time is : 239, get best_k: 24.537231037993877 best_b: -68.14293972840306, and the loss is: 63.5644512826655\n",
      "When time is : 249, get best_k: 23.537231037993863 best_b: -67.14293972840312, and the loss is: 58.29058330428422\n",
      "When time is : 259, get best_k: 22.53723103799385 best_b: -66.14293972840318, and the loss is: 53.04038613522729\n",
      "When time is : 269, get best_k: 21.537231037993834 best_b: -65.14293972840323, and the loss is: 47.79288218265797\n",
      "When time is : 279, get best_k: 20.53723103799382 best_b: -64.14293972840329, and the loss is: 42.54537823008866\n",
      "When time is : 289, get best_k: 19.537231037993806 best_b: -63.142939728403285, and the loss is: 37.2978742775194\n",
      "When time is : 299, get best_k: 18.53723103799379 best_b: -62.14293972840327, and the loss is: 32.06316363475328\n",
      "When time is : 309, get best_k: 17.537231037993777 best_b: -61.142939728403256, and the loss is: 26.854609354052037\n",
      "When time is : 319, get best_k: 16.537231037993763 best_b: -60.14293972840324, and the loss is: 21.67776008323998\n",
      "When time is : 329, get best_k: 15.537231037993758 best_b: -59.14293972840323, and the loss is: 16.546636874183108\n",
      "When time is : 339, get best_k: 14.537231037993761 best_b: -58.14293972840321, and the loss is: 11.546076961476388\n",
      "When time is : 349, get best_k: 13.537231037993765 best_b: -57.1429397284032, and the loss is: 6.942752006151521\n",
      "When time is : 359, get best_k: 12.537231037993768 best_b: -56.142939728403185, and the loss is: 4.660674342250746\n",
      "When time is : 388, get best_k: 12.03723103799377 best_b: -53.242939728403144, and the loss is: 4.600131375616323\n",
      "When time is : 416, get best_k: 11.637231037993772 best_b: -50.442939728403104, and the loss is: 4.540977579823003\n",
      "When time is : 447, get best_k: 11.137231037993773 best_b: -47.34293972840306, and the loss is: 4.490618261758531\n",
      "When time is : 480, get best_k: 10.637231037993775 best_b: -44.04293972840301, and the loss is: 4.455465553984935\n"
     ]
    }
   ],
   "source": [
    "import random\n",
    "import numpy as np\n",
    "from sklearn.datasets import load_boston\n",
    "\n",
    "\n",
    "def price(rm, k, b):\n",
    "    \"\"\"f(x) = k * x + b\"\"\"\n",
    "    return k * rm + b\n",
    "\n",
    "def loss(y, y_hat): # to evaluate the performance\n",
    "    dy = y - y_hat\n",
    "    pos_total = np.sum(dy[(dy > 0)])\n",
    "    neg_total = -np.sum(dy[dy < 0])\n",
    "    return (pos_total + neg_total) / y.shape[0]\n",
    "\n",
    "trying_times = 2000\n",
    "\n",
    "min_loss = float('inf')\n",
    "\n",
    "current_k = random.random() * 200 - 100\n",
    "current_b = random.random() * 200 - 100\n",
    "\n",
    "scalar = 0.1\n",
    "\n",
    "update_time = 0\n",
    "\n",
    "data = load_boston()\n",
    "\n",
    "X, y = data['data'], data['target']\n",
    "\n",
    "X_rm = X[:, 5]\n",
    "\n",
    "best_k = best_b = 0\n",
    "\n",
    "for i in range(trying_times):\n",
    "\n",
    "    price_by_k_and_b = np.array([price(r, current_k, current_b) for r in X_rm])\n",
    "\n",
    "    dy = y - price_by_k_and_b\n",
    "\n",
    "    dy_gt_0_idx = dy > 0\n",
    "\n",
    "    positive_dk = -sum(X_rm[dy_gt_0_idx])\n",
    "    positive_db = -(np.sum(dy > 0))\n",
    "\n",
    "    negtive_dk = sum(X_rm[dy < 0])\n",
    "    negtive_db = (np.sum(dy < 0))\n",
    "\n",
    "    dk = (positive_dk + negtive_dk) / X_rm.shape[0]\n",
    "    db = positive_db + negtive_db / X_rm.shape[0]\n",
    "\n",
    "    delt_k = 1 if dk < 0 else -1\n",
    "    delt_b = 1 if db < 0 else -1\n",
    "\n",
    "    current_k = current_k + delt_k * scalar\n",
    "    current_b = current_b + delt_b * scalar\n",
    "\n",
    "    price_by_k_and_b = np.array([price(r, current_k, current_b) for r in X_rm])\n",
    "    current_loss = loss(y, price_by_k_and_b)\n",
    "\n",
    "    if current_loss < min_loss:  # performance became better\n",
    "        min_loss = current_loss\n",
    "        best_k, best_b = current_k, current_b\n",
    "\n",
    "        update_time += 1\n",
    "\n",
    "        if update_time % 10 == 0:\n",
    "            print(\n",
    "                'When time is : {}, get best_k: {} best_b: {}, and the loss is: {}'.format(i, best_k, best_b, min_loss))\n",
    "    else:\n",
    "        pass"
   ]
  },
  {
   "cell_type": "markdown",
   "metadata": {},
   "source": [
    "### Part 3: Finish the Solution Parse Part of Edit-Distance"
   ]
  },
  {
   "cell_type": "code",
   "execution_count": 2,
   "metadata": {},
   "outputs": [
    {
     "name": "stdout",
     "output_type": "stream",
     "text": [
      "4\n",
      "('', '1ABCCrfDE') ADD before 1st char 1ABCCrfDE\n",
      "('', '1ABCCrfD') ADD before 1st char 1ABCCrfD\n",
      "('', '1ABCCrf') ADD before 1st char 1ABCCrf\n",
      "('', '1ABCCr') ADD before 1st char 1ABCCr\n",
      "('', '1ABCC') ADD before 1st char 1ABCC\n",
      "('', '1ABC') ADD before 1st char 1ABC\n",
      "('', '1AB') ADD before 1st char 1AB\n",
      "('', '1A') ADD before 1st char 1A\n",
      "('', '1') ADD before 1st char 1\n",
      "('A', '') DEL prefix 1 A\n",
      "('', '') ADD before 1st char \n",
      "('A', '1') SUB 1th char A => 1\n",
      "('A', '1A') \n",
      "('A', '1AB') ADD after 2th char B\n",
      "('A', '1ABC') ADD after 3th char C\n",
      "('A', '1ABCC') ADD after 4th char C\n",
      "('A', '1ABCCr') ADD after 5th char r\n",
      "('A', '1ABCCrf') ADD after 6th char f\n",
      "('A', '1ABCCrfD') ADD after 7th char D\n",
      "('A', '1ABCCrfDE') ADD after 8th char E\n",
      "('AB', '') DEL prefix 2 AB\n",
      "('AB', '1') DEL 2th char B\n",
      "('AB', '1A') DEL 2th char B\n",
      "('AB', '1AB') \n",
      "('AB', '1ABC') ADD after 3th char C\n",
      "('AB', '1ABCC') ADD after 4th char C\n",
      "('AB', '1ABCCr') ADD after 5th char r\n",
      "('AB', '1ABCCrf') ADD after 6th char f\n",
      "('AB', '1ABCCrfD') ADD after 7th char D\n",
      "('AB', '1ABCCrfDE') ADD after 8th char E\n",
      "('AB1', '') DEL prefix 3 AB1\n",
      "('AB1', '1') \n",
      "('AB1', '1A') DEL 3th char 1\n",
      "('AB1', '1AB') DEL 3th char 1\n",
      "('AB1', '1ABC') SUB 4th char 1 => C\n",
      "('AB1', '1ABCC') ADD after 4th char C\n",
      "('AB1', '1ABCCr') ADD after 5th char r\n",
      "('AB1', '1ABCCrf') ADD after 6th char f\n",
      "('AB1', '1ABCCrfD') ADD after 7th char D\n",
      "('AB1', '1ABCCrfDE') ADD after 8th char E\n",
      "('AB1C', '') DEL prefix 4 AB1C\n",
      "('AB1C', '1') DEL 4th char C\n",
      "('AB1C', '1A') SUB 2th char C => A\n",
      "('AB1C', '1AB') DEL 4th char C\n",
      "('AB1C', '1ABC') \n",
      "('AB1C', '1ABCC') \n",
      "('AB1C', '1ABCCr') ADD after 5th char r\n",
      "('AB1C', '1ABCCrf') ADD after 6th char f\n",
      "('AB1C', '1ABCCrfD') ADD after 7th char D\n",
      "('AB1C', '1ABCCrfDE') ADD after 8th char E\n",
      "('AB1CD', '') DEL prefix 5 AB1CD\n",
      "('AB1CD', '1') DEL 5th char D\n",
      "('AB1CD', '1A') DEL 5th char D\n",
      "('AB1CD', '1AB') DEL 5th char D\n",
      "('AB1CD', '1ABC') DEL 5th char D\n",
      "('AB1CD', '1ABCC') DEL 5th char D\n",
      "('AB1CD', '1ABCCr') SUB 6th char D => r\n",
      "('AB1CD', '1ABCCrf') ADD after 6th char f\n",
      "('AB1CD', '1ABCCrfD') \n",
      "('AB1CD', '1ABCCrfDE') ADD after 8th char E\n",
      "('AB1CDE', '') DEL prefix 6 AB1CDE\n",
      "('AB1CDE', '1') DEL 6th char E\n",
      "('AB1CDE', '1A') DEL 6th char E\n",
      "('AB1CDE', '1AB') DEL 6th char E\n",
      "('AB1CDE', '1ABC') DEL 6th char E\n",
      "('AB1CDE', '1ABCC') DEL 6th char E\n",
      "('AB1CDE', '1ABCCr') DEL 6th char E\n",
      "('AB1CDE', '1ABCCrf') SUB 7th char E => f\n",
      "('AB1CDE', '1ABCCrfD') DEL 6th char E\n",
      "('AB1CDE', '1ABCCrfDE') \n",
      "--------- action ------------\n",
      "ADD before 1st char 1\n",
      "SUB 4th char 1 => C\n",
      "ADD after 5th char r\n",
      "ADD after 6th char f\n"
     ]
    }
   ],
   "source": [
    "solution = {}\n",
    "#@lru_cache(maxsize=2 ** 10)\n",
    "def edit_distance(string1, string2):\n",
    "    if len(string1) == 0:\n",
    "        solution[('', string2)] = 'ADD before 1st char {}'.format(string2)\n",
    "        return len(string2)\n",
    "    if len(string2) == 0:\n",
    "        solution[(string1, '')] = 'DEL prefix {} {}'.format(len(string1), string1)\n",
    "        return len(string1)\n",
    "\n",
    "    tail_s1 = string1[-1]\n",
    "    tail_s2 = string2[-1]\n",
    "\n",
    "    candidates = [\n",
    "        (edit_distance(string1[:-1], string2) + 1, 'DEL {}th char {}'.format(len(string1), tail_s1)),  # string 1 delete tail\n",
    "        (edit_distance(string1, string2[:-1]) + 1, 'ADD after {}th char {}'.format(len(string2) - 1, tail_s2)),  # string 1 add tail of string2\n",
    "    ]\n",
    "\n",
    "    if tail_s1 == tail_s2:\n",
    "        both_forward = (edit_distance(string1[:-1], string2[:-1]) + 0, '')\n",
    "    else:\n",
    "        both_forward = (edit_distance(string1[:-1], string2[:-1]) + 1, 'SUB {}th char {} => {}'.format(len(string2), tail_s1, tail_s2))\n",
    "\n",
    "    candidates.append(both_forward)\n",
    "\n",
    "    min_distance, operation = min(candidates, key=lambda x: x[0])\n",
    "\n",
    "    solution[(string1, string2)] = operation\n",
    "\n",
    "    return min_distance\n",
    "\n",
    "def parse_solution(src, obj, revenue_solution):\n",
    "    if src == '':\n",
    "        return ['ADD before 1st char {}'.format(obj)]\n",
    "    if obj == '':\n",
    "        return ['DEL last {}'.format(src)]\n",
    "    if src == 'AB1' and obj == '1AB1':\n",
    "        print(1)\n",
    "    solve_exp = revenue_solution[(src, obj)]\n",
    "    solve = solve_exp.split()\n",
    "    if (0 == len(solve)):\n",
    "        return parse_solution(src[:-1], obj[:-1], revenue_solution)\n",
    "    else:\n",
    "        if \"ADD\" == solve[0]:\n",
    "            return parse_solution(src, obj[:-1], revenue_solution) + [solve_exp]\n",
    "        if \"DEL\" == solve[0]:\n",
    "            return parse_solution(src, obj + solve[3], revenue_solution) + [solve_exp]\n",
    "        if \"SUB\" == solve[0]:\n",
    "            return parse_solution(src[:-1], obj[:-1], revenue_solution) + [solve_exp]\n",
    "\n",
    "\n",
    "print(edit_distance('AB1CDE', '1ABCCrfDE'))\n",
    "for k, v in solution.items():\n",
    "    print(k,  v)\n",
    "print('--------- action ------------')\n",
    "for v in parse_solution('AB1CDE', '1ABCCrfDE', solution):\n",
    "    print(v)"
   ]
  },
  {
   "cell_type": "markdown",
   "metadata": {},
   "source": [
    "### Part 4 Choose 1 - 2 books to keep reading: \n",
    "\n",
    "+ SICP, Structure and Interpretation of Computer Programming. \n",
    "+ Introduction to Algorithms \n",
    "+ Artificial Intelligence A Modern Approach (3rd Edition) \n",
    "+ Code Complete 2 \n",
    "+ Programming Pearls \n",
    "+ Deep Learning\n",
    "+ 黑客与画家\n",
    "+ 数学之美\n",
    "+ Fluent Python\n",
    "+ Hands on Tensorflow\n",
    "+ Conference: NIPS_ ICML_ ICLR_ ACL_ AAAI\n",
    "\n",
    "> most books you may find in our github: https://github.com/Computing-Intelligence/References"
   ]
  },
  {
   "cell_type": "markdown",
   "metadata": {},
   "source": [
    "## Part 5-1: review machine learning"
   ]
  },
  {
   "cell_type": "markdown",
   "metadata": {},
   "source": [
    "1. Why do we use Derivative / Gredient to fit a target function?¶"
   ]
  },
  {
   "cell_type": "markdown",
   "metadata": {},
   "source": [
    "Ans:"
   ]
  },
  {
   "cell_type": "markdown",
   "metadata": {},
   "source": [
    "2. In the words 'Gredient Descent', what's the Gredient and what's the Descent?¶"
   ]
  },
  {
   "cell_type": "markdown",
   "metadata": {},
   "source": [
    "Ans:"
   ]
  },
  {
   "cell_type": "markdown",
   "metadata": {},
   "source": [
    "\n",
    "3. What's the advantages of the 3rd gradient descent method compared to the previous methods?"
   ]
  },
  {
   "cell_type": "markdown",
   "metadata": {},
   "source": [
    "Ans:"
   ]
  },
  {
   "cell_type": "markdown",
   "metadata": {},
   "source": [
    "4. Using the simple words to describe: What's the machine leanring.¶"
   ]
  },
  {
   "cell_type": "markdown",
   "metadata": {},
   "source": [
    "Ans: training,samples,test"
   ]
  },
  {
   "cell_type": "markdown",
   "metadata": {},
   "source": [
    "### Part 5: Answer following questions: "
   ]
  },
  {
   "cell_type": "markdown",
   "metadata": {},
   "source": [
    "1. Why do we need dynamic programming? What's the difference of dynamic programming and previous talked `search` problem? "
   ]
  },
  {
   "cell_type": "markdown",
   "metadata": {},
   "source": [
    "ans: Low computation, of no markov property. The previous search problem like exhaustion and dynamic programming can memory the previous state, \n",
    "which can provide accordance for the later computation."
   ]
  },
  {
   "cell_type": "markdown",
   "metadata": {},
   "source": [
    "2. Why do we still need dynamic programming? Why not we train a machine learning to fit a function which could get the `right` answer based on inputs?"
   ]
  },
  {
   "cell_type": "markdown",
   "metadata": {},
   "source": [
    "ans: The machine learning has uncertainty"
   ]
  },
  {
   "cell_type": "markdown",
   "metadata": {},
   "source": [
    "3. Can you catch up at least 3 problems which could solved by Dynamic Programming? "
   ]
  },
  {
   "cell_type": "markdown",
   "metadata": {},
   "source": [
    "ans:   \n",
    "1.When one want climb 100 stairs, but he only climb one stage or two stages a time, and how many kinds of way can he climb to the 100 stairs   \n",
    "2.Given a rope.We cut it into several sections, we multiply the length of each section to obatin the maximum product.  \n",
    "3.Given several coins, choose the least number of coins to make the summation of chosen coins to 11.   "
   ]
  },
  {
   "cell_type": "markdown",
   "metadata": {},
   "source": [
    "4. Can you catch up at least 3 problems wich could sloved by Edit Distance? "
   ]
  },
  {
   "cell_type": "markdown",
   "metadata": {},
   "source": [
    "1.correct the spelling error     \n",
    "2.string matching  \n",
    "3.RNA/DNA sequencing  \n",
    "4.Speech/face recognition"
   ]
  },
  {
   "cell_type": "markdown",
   "metadata": {},
   "source": [
    "5. Please summarize the three main features of Dynamic Programming, and make a concise explain for each feature. "
   ]
  },
  {
   "cell_type": "markdown",
   "metadata": {},
   "source": [
    "ans:  \n",
    "1.Optimal substructure properties.   \n",
    "If the optimal solution of the problem contains the optimal solution of the sub-problem, we call it the optimal sub-structure property \n",
    "(that is satisfying the optimization principle). The optimal substructure property provides an important clue \n",
    "for the dynamic programming algorithm to solve the problem.  \n",
    "2.No aftereffect. That is to say, once the solution of the sub-problem is determined, it will not change, and will not be affected \n",
    "by the decision-making of solving the larger problem containing it.  \n",
    "3.The overlapping property of sub-problems. The overlapping property of sub-problems refers to that the sub-problems are not\n",
    "always new when the recursive algorithm is used to solve the problem from top to bottom, and some sub-problems will be repeated many times.\n",
    "Dynamic programming algorithm takes advantage of the overlapping nature of the problem, calculates each sub-problem only once, and then\n",
    "saves its calculation results in a table. When it needs to calculate the calculated same sub-problems again, it simply looks up the results\n",
    "in the table, so as to achieve higher efficiency."
   ]
  },
  {
   "cell_type": "markdown",
   "metadata": {},
   "source": [
    "6. What's the disadvantages of Dynamic Programming? (You may need search by yourself in Internet)"
   ]
  },
  {
   "cell_type": "markdown",
   "metadata": {},
   "source": [
    "ans:  \n",
    "1. There is no unified standard model;\n",
    "2. Dimensional disasters exist in numerical methods."
   ]
  },
  {
   "cell_type": "markdown",
   "metadata": {},
   "source": [
    "## Part 6 Preparation of Project-01"
   ]
  },
  {
   "cell_type": "markdown",
   "metadata": {},
   "source": [
    "1. Using python Flask or Bottle to finish your first simple web app:\n",
    "> https://bottlepy.org/\n",
    "\n",
    "2. Learn what's the SQL, and try some simple SQL operations:\n",
    "> https://www.w3schools.com/sql/sql_intro.asp\n",
    "\n",
    "3. Learn what's the HTML ( *ONLY* need to know the basic things)\n",
    "> https://getbootstrap.com/; https://www.w3schools.com/html/"
   ]
  },
  {
   "cell_type": "markdown",
   "metadata": {},
   "source": [
    "### (Optinal) Finish the k-person-salesman problem:"
   ]
  },
  {
   "cell_type": "code",
   "execution_count": 7,
   "metadata": {},
   "outputs": [],
   "source": [
    "import random\n",
    "import matplotlib.pylab as plt"
   ]
  },
  {
   "cell_type": "code",
   "execution_count": 8,
   "metadata": {},
   "outputs": [],
   "source": [
    "latitudes = [random.randint(-100, 100) for _ in range(20)]\n",
    "longitude = [random.randint(-100, 100) for _ in range(20)]"
   ]
  },
  {
   "cell_type": "code",
   "execution_count": 9,
   "metadata": {},
   "outputs": [
    {
     "data": {
      "text/plain": [
       "<matplotlib.collections.PathCollection at 0x11da1c588>"
      ]
     },
     "execution_count": 9,
     "metadata": {},
     "output_type": "execute_result"
    },
    {
     "data": {
      "image/png": "[encoded data removed]",
      "text/plain": [
       "<Figure size 432x288 with 1 Axes>"
      ]
     },
     "metadata": {
      "needs_background": "light"
     },
     "output_type": "display_data"
    }
   ],
   "source": [
    "plt.scatter(latitudes, longitude)"
   ]
  },
  {
   "cell_type": "markdown",
   "metadata": {},
   "source": [
    "给定一个初始点 𝑃, 已经 𝑘个车辆，如何从该点出发，经这 k 个车辆经过所以的点全部一次，而且所走过的路程最短?\n",
    "\n",
    "例如："
   ]
  },
  {
   "cell_type": "code",
   "execution_count": 14,
   "metadata": {},
   "outputs": [],
   "source": [
    "chosen_p = (-50, 10)\n",
    "chosen_p2 = (1, 30)\n",
    "chosen_p3 = (99, 15)"
   ]
  },
  {
   "cell_type": "code",
   "execution_count": 4,
   "metadata": {},
   "outputs": [],
   "source": [
    "import matplotlib.pyplot as plt"
   ]
  },
  {
   "cell_type": "code",
   "execution_count": 15,
   "metadata": {
    "scrolled": true
   },
   "outputs": [
    {
     "data": {
      "text/plain": [
       "<matplotlib.collections.PathCollection at 0x11dbbd470>"
      ]
     },
     "execution_count": 15,
     "metadata": {},
     "output_type": "execute_result"
    },
    {
     "data": {
      "image/png": "[encoded data removed]",
      "text/plain": [
       "<Figure size 432x288 with 1 Axes>"
      ]
     },
     "metadata": {
      "needs_background": "light"
     },
     "output_type": "display_data"
    }
   ],
   "source": [
    "plt.scatter(latitudes, longitude)\n",
    "plt.scatter([chosen_p[0]], [chosen_p[1]], color='r')\n",
    "plt.scatter([chosen_p2[0]], [chosen_p2[1]], color='r')\n",
    "plt.scatter([chosen_p3[0]], [chosen_p3[1]], color='r')"
   ]
  },
  {
   "cell_type": "markdown",
   "metadata": {},
   "source": [
    "shuro"
   ]
  }
 ],
 "metadata": {
  "kernelspec": {
   "display_name": "Python 3",
   "language": "python",
   "name": "python3"
  },
  "language_info": {
   "codemirror_mode": {
    "name": "ipython",
    "version": 3
   },
   "file_extension": ".py",
   "mimetype": "text/x-python",
   "name": "python",
   "nbconvert_exporter": "python",
   "pygments_lexer": "ipython3",
   "version": "3.7.3"
  }
 },
 "nbformat": 4,
 "nbformat_minor": 2
}
